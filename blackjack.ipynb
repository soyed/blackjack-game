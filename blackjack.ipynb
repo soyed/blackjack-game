{
 "cells": [
  {
   "cell_type": "markdown",
   "metadata": {},
   "source": [
    "# Milestone Project 2 - Blackjack Game\n",
    "\n",
    "## Problem Statement\n",
    "\n",
    "Create a Complete BlackJack Card Game in Python.\n",
    "\n",
    "### Requirements\n",
    "\n",
    "* You need to create a simple text-based [BlackJack](https://en.wikipedia.org/wiki/Blackjack) game\n",
    "* The game needs to have one player versus an automated dealer.\n",
    "* The player can stand or hit.\n",
    "* The player must be able to pick their betting amount.\n",
    "* You need to keep track of the player's total money.\n",
    "* You need to alert the player of wins, losses, or busts, etc...\n",
    "\n",
    "### Implementation Style\n",
    "\n",
    "* OOP and classes in Python\n",
    "\n",
    "## Design Process\n",
    "\n",
    "### Game Card\n",
    "* A game card is printed with a box dash. The card rank is printed as well\n",
    "* All dealer's cards are hidden except the first card\n",
    "\n",
    "### Classes, Methods, global Variables\n",
    "* Create global variables to track:\n",
    "  * current player\n",
    "  * card suit, rank and Value\n",
    "* Create a Card, Deck, and Bet classes\n",
    "\n",
    "### Card Values\n",
    "* All face cards (**Jack (J), Queen (Q), King (K)**) count as 10.\n",
    "* Ace counts as 1 or 11 according to player choice\n",
    "  * An ace can turn to 1 when\n",
    "    * the game winner needs to be determined and a player sum exceeds 21 but has an ace among their cards\n",
    "      * In this case, if the sum will be less than 21 with ace  becomes 1. \n",
    "      * This is a valid operation and they player has therefore not **BUST**\n",
    "* All other cards count for their number 2 to 10.\n",
    "\n",
    "### Determine number of decks to play with\n",
    "  \n",
    "### Player Options\n",
    "* A player has the following options:\n",
    "  * Split\n",
    "    * A split occurs if the first two cards have the same value.\n",
    "    * The player has the option to split or perform other actions\n",
    "    * If a player decides to split\n",
    "      * The two cards are split into separate bets\n",
    "      * Each split has its own bet and the player can perform independent actions on each split\n",
    "    * Note:\n",
    "      * Multiple split can occur within a split \n",
    "  * Stand\n",
    "    * A player **Stand** means the player has decided to take no more cards.\n",
    "      * Note:\n",
    "        * When a player stands, the dealer must reveal their cards.\n",
    "          * If the dealer cannot take a stand yet, the dealer must continue to hit until the dealer hits a stand\n",
    "            * This means the sum of dealers can must be at least 17.\n",
    "  * Hit\n",
    "    * If a player decides to **HIT**, the player must add an extra card to their cards\n",
    "      * Note:\n",
    "        * If a player card sum exceeds 21 after a **HIT**, that player has BUST. \n",
    "          * This means the dealer automatically wins the round!\n",
    "  * Double\n",
    "    * If a player decides to Double, this means the player doubles their wager\n",
    "    * Next, the player must **HIT**. \n",
    "    * Finally, the game condition will be checked and a winner will be determined.\n",
    "      * Note:\n",
    "        * **Dealer Stand** must take effect. \n",
    "\n",
    "### Game States\n",
    "* BlackJack\n",
    "  * If a player has a total of 21 from the first two cards, that is a **BlackJack**.\n",
    "    * This means this player has automatically won the round\n",
    "* Push\n",
    "  * A push occurs when the dealer and player have the total card sum\n",
    "  * The player and dealer gets to keep their wager\n",
    "* Bust\n",
    "  * A bust occurs when one of the players exceed 21\n",
    "  * A bust occurs for a player has a higher score than the dealer \n",
    "  * Loser loses their bet.\n",
    "* Win\n",
    "  * A win occurs when a player has a lower card sum than the dealer\n",
    "  * A win can also occur if a dealer or player **BUST**\n",
    "  * The winners get to keep the total wager\n",
    "  * Note:\n",
    "    * If both players exceed a total of 21, the player with the lower score gets \n",
    "* Dealer Stand\n",
    "  * A dealer must relieve their hidden cards when a player decided to **STAND**.\n",
    "  * Note:\n",
    "    * After the dealer relieves their hidden cards,\n",
    "    * If the dealer's sum is less than 17\n",
    "      * the dealer must hit until a sum of at least 17 has been reached \n",
    "    * Once this condition is satisfied:\n",
    "      * Check game condition and determine the winner\n",
    "\n",
    "\n",
    "### Continue Games\n",
    "* If a game status has been determined, Ask player if they would like to continue the game?\n",
    "\n",
    "### Reset game\n",
    "- Reset deck"
   ]
  },
  {
   "cell_type": "code",
   "execution_count": 231,
   "metadata": {},
   "outputs": [],
   "source": [
    "# Global Variable\n",
    "import random\n",
    "\n",
    "suits = ('spades', 'hearts', 'diamonds', 'clubs')\n",
    "ranks = ('ace','two', 'three', 'four', 'five', 'six', 'seven', 'eight', 'nine', 'ten', 'jack', 'queen', 'king')\n",
    "values = {'two': 2, 'three': 3,'four': 4, 'five': 5, 'six':6, 'seven':7, 'eight':8, 'nine':9, 'ten':10, 'jack': 10, 'queen': 10, 'king': 10, 'ace': 11}\n",
    "card_emojis = {'spades': '♤', 'hearts': '♡', 'diamonds': '♢', 'clubs': '♣️'}"
   ]
  },
  {
   "cell_type": "code",
   "execution_count": 232,
   "metadata": {},
   "outputs": [],
   "source": [
    "# Card class\n",
    "# Create a card class, that takes the parameters, suit, rank\n",
    "class Card:\n",
    "    # constructor\n",
    "    def __init__(self, suit, rank) -> None:\n",
    "        self.suit = suit\n",
    "        self.rank = rank\n",
    "        self.value = values[rank]\n",
    "        self.emoji = card_emojis[suit]\n",
    "\n",
    "    def cardValue(self) -> str:\n",
    "        return self.value\n",
    "\n",
    "    def printCard(self) -> None:\n",
    "        print(\"*\"*15)\n",
    "        if len(str(self.value)) == 1:\n",
    "            print(\"* {value}           *\".format(value=self.value))\n",
    "        else:\n",
    "            print(\"* {value}          *\".format(value=self.value))\n",
    "        print(\"* {emoji}           *\".format(emoji=self.emoji))\n",
    "        print(\"*             *\")\n",
    "        print(\"*      {emoji}      *\".format(emoji=self.emoji))\n",
    "        print(\"*             *\")\n",
    "        print(\"*           {emoji} *\".format(emoji=self.emoji))\n",
    "        if len(str(self.value)) == 1:\n",
    "            print(\"*           {value} *\".format(value=self.value))\n",
    "        else:\n",
    "            print(\"*          {value} *\".format(value=self.value))\n",
    "        print(\"*\"*15)\n",
    "    def __str__(self) -> str:\n",
    "        return '{} of {}'.format(self.rank, self.suit)    "
   ]
  },
  {
   "cell_type": "code",
   "execution_count": 233,
   "metadata": {},
   "outputs": [
    {
     "name": "stdout",
     "output_type": "stream",
     "text": [
      "***************\n",
      "* 11          *\n",
      "* ♤           *\n",
      "*             *\n",
      "*      ♤      *\n",
      "*             *\n",
      "*           ♤ *\n",
      "*          11 *\n",
      "***************\n",
      "***************\n",
      "* 2           *\n",
      "* ♣️           *\n",
      "*             *\n",
      "*      ♣️      *\n",
      "*             *\n",
      "*           ♣️ *\n",
      "*           2 *\n",
      "***************\n"
     ]
    }
   ],
   "source": [
    "card = Card('spades', 'ace')\n",
    "card1 = Card('clubs', 'two')\n",
    "card.printCard()\n",
    "card1.printCard()"
   ]
  },
  {
   "cell_type": "code",
   "execution_count": 234,
   "metadata": {},
   "outputs": [],
   "source": [
    "# Deck Class\n",
    "class Deck:\n",
    "    # constructor\n",
    "    def __init__(self):\n",
    "        # Populate each deck with all cards\n",
    "        self.cards = []\n",
    "        for suit in suits:\n",
    "            for rank in ranks:\n",
    "                self.cards.append(Card(suit, rank))\n",
    "    def __len__(self) -> int:\n",
    "        return len(self.cards)\n",
    "    def __str__(self) -> str:\n",
    "        return \"The deck has {total} cards\".format(total=len(self))"
   ]
  },
  {
   "cell_type": "code",
   "execution_count": 235,
   "metadata": {},
   "outputs": [
    {
     "name": "stdout",
     "output_type": "stream",
     "text": [
      "The deck has 52 card\n",
      "52\n"
     ]
    }
   ],
   "source": [
    "deck = Deck()\n",
    "print(deck)\n",
    "print(len(deck))"
   ]
  },
  {
   "cell_type": "code",
   "execution_count": null,
   "metadata": {},
   "outputs": [],
   "source": []
  },
  {
   "cell_type": "code",
   "execution_count": 236,
   "metadata": {},
   "outputs": [],
   "source": [
    "# Chip | Bet Class"
   ]
  },
  {
   "cell_type": "code",
   "execution_count": 237,
   "metadata": {},
   "outputs": [],
   "source": [
    "# functions\n",
    "def welcome_message():\n",
    "    pass\n",
    "\n",
    "# display score board\n",
    "\n",
    "# display players current count"
   ]
  },
  {
   "cell_type": "code",
   "execution_count": 238,
   "metadata": {},
   "outputs": [],
   "source": [
    "# Game setup"
   ]
  },
  {
   "cell_type": "markdown",
   "metadata": {},
   "source": []
  }
 ],
 "metadata": {
  "interpreter": {
   "hash": "6eda70540f0744b8b9daa283a18c03df0bf4052b235d7922732559257ff34a37"
  },
  "kernelspec": {
   "display_name": "Python 3.9.7 ('base')",
   "language": "python",
   "name": "python3"
  },
  "language_info": {
   "codemirror_mode": {
    "name": "ipython",
    "version": 3
   },
   "file_extension": ".py",
   "mimetype": "text/x-python",
   "name": "python",
   "nbconvert_exporter": "python",
   "pygments_lexer": "ipython3",
   "version": "3.9.7"
  },
  "orig_nbformat": 4
 },
 "nbformat": 4,
 "nbformat_minor": 2
}
